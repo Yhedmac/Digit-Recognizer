{
 "cells": [
  {
   "cell_type": "code",
   "execution_count": 1,
   "metadata": {
    "collapsed": true
   },
   "outputs": [],
   "source": [
    "from sklearn.ensemble import RandomForestClassifier\n",
    "from numpy import genfromtxt, savetxt"
   ]
  },
  {
   "cell_type": "code",
   "execution_count": null,
   "metadata": {},
   "outputs": [
    {
     "name": "stdout",
     "output_type": "stream",
     "text": [
      "Reading training set\n",
      "Reading test set\n",
      "Fitting RF classifier\n"
     ]
    }
   ],
   "source": [
    "CPU = 1\n",
    "\n",
    "\n",
    "def main():\n",
    "    print (\"Reading training set\")\n",
    "    dataset = genfromtxt(open('train.csv', 'rb'), delimiter=',', dtype='int64')[1:]\n",
    "    target = [x[0] for x in dataset]\n",
    "    train = [x[1:] for x in dataset]\n",
    "    print (\"Reading test set\")\n",
    "    test = genfromtxt(open('test.csv', 'rb'), delimiter=',', dtype='int64')[1:]\n",
    "\n",
    "    #create and train the random forest\n",
    "    rf = RandomForestClassifier(n_estimators=1000, n_jobs=CPU)\n",
    "    print (\"Fitting RF classifier\")\n",
    "    rf.fit(train, target)\n",
    "\n",
    "    print (\"Predicting test set\")\n",
    "    savetxt('submission-version-1.csv', rf.predict(test), delimiter=',', fmt='%d')\n",
    "\n",
    "if __name__ == \"__main__\":\n",
    "    main()\n"
   ]
  },
  {
   "cell_type": "code",
   "execution_count": null,
   "metadata": {
    "collapsed": true
   },
   "outputs": [],
   "source": []
  }
 ],
 "metadata": {
  "kernelspec": {
   "display_name": "Python 3",
   "language": "python",
   "name": "python3"
  },
  "language_info": {
   "codemirror_mode": {
    "name": "ipython",
    "version": 3
   },
   "file_extension": ".py",
   "mimetype": "text/x-python",
   "name": "python",
   "nbconvert_exporter": "python",
   "pygments_lexer": "ipython3",
   "version": "3.6.1"
  }
 },
 "nbformat": 4,
 "nbformat_minor": 2
}
