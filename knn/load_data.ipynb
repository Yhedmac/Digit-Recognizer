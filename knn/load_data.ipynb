{
 "cells": [
  {
   "cell_type": "code",
   "execution_count": 1,
   "metadata": {
    "collapsed": true
   },
   "outputs": [],
   "source": [
    "import csv\n",
    "import numpy as np\n",
    "\n",
    "\n",
    "# loading csv data into numpy array\n",
    "def read_data(f, header=True, test=False):\n",
    "    data = []\n",
    "    labels = []\n",
    "\n",
    "    csv_reader = csv.reader(open(f, \"r\"), delimiter=\",\")\n",
    "    index = 0\n",
    "    for row in csv_reader:\n",
    "        index = index + 1\n",
    "        if header and index == 1:\n",
    "            continue\n",
    "\n",
    "        if not test:\n",
    "            labels.append(int(row[0]))\n",
    "            row = row[1:]\n",
    "\n",
    "        data.append(np.array(np.int64(row)))\n",
    "    return (data, labels)\n",
    "\n",
    "\n",
    "if __name__ == \"__main__\":\n",
    "    train, labels = read_data(\"train.csv\")\n",
    "    test, tmpl = read_data(\"test.csv\", test=True)"
   ]
  },
  {
   "cell_type": "code",
   "execution_count": null,
   "metadata": {
    "collapsed": true
   },
   "outputs": [],
   "source": []
  }
 ],
 "metadata": {
  "kernelspec": {
   "display_name": "Python 3",
   "language": "python",
   "name": "python3"
  },
  "language_info": {
   "codemirror_mode": {
    "name": "ipython",
    "version": 3
   },
   "file_extension": ".py",
   "mimetype": "text/x-python",
   "name": "python",
   "nbconvert_exporter": "python",
   "pygments_lexer": "ipython3",
   "version": "3.6.1"
  }
 },
 "nbformat": 4,
 "nbformat_minor": 2
}
