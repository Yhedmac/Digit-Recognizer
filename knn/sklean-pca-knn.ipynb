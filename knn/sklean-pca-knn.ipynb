{
 "cells": [
  {
   "cell_type": "code",
   "execution_count": 1,
   "metadata": {
    "collapsed": true
   },
   "outputs": [],
   "source": [
    "from sklearn.neighbors import KNeighborsClassifier\n",
    "from sklearn import decomposition\n",
    "import numpy as np\n",
    "\n",
    "PCA_COMPONENTS = 100"
   ]
  },
  {
   "cell_type": "code",
   "execution_count": 2,
   "metadata": {
    "collapsed": true
   },
   "outputs": [],
   "source": [
    "def doWork(train, labels, test):\n",
    "    print (\"Converting training set to matrix\")\n",
    "    X_train = np.mat(train)\n",
    "\n",
    "    print (\"Fitting PCA. Components: %d\" % PCA_COMPONENTS)\n",
    "    pca = decomposition.PCA(n_components=PCA_COMPONENTS).fit(X_train)\n",
    "\n",
    "    print (\"Reducing training to %d components\" % PCA_COMPONENTS)\n",
    "    X_train_reduced = pca.transform(X_train)\n",
    "\n",
    "    print (\"Fitting kNN with k=10, kd_tree\")\n",
    "    knn = KNeighborsClassifier(n_neighbors=10, algorithm=\"kd_tree\")\n",
    "    print (knn.fit(X_train_reduced, labels))\n",
    "\n",
    "    print (\"Reducing test to %d components\" % PCA_COMPONENTS)\n",
    "    X_test_reduced = pca.transform(test)\n",
    "\n",
    "    print (\"Preddicting numbers\")\n",
    "    predictions = knn.predict(X_test_reduced)\n",
    "\n",
    "    print (\"Writing to file\")\n",
    "    write_to_file(predictions)\n",
    "\n",
    "    return predictions"
   ]
  },
  {
   "cell_type": "code",
   "execution_count": 3,
   "metadata": {
    "collapsed": true
   },
   "outputs": [],
   "source": [
    "def write_to_file(predictions):\n",
    "    f = open(\"output-pca-knn-skilearn-v3.csv\", \"w\")\n",
    "    for p in predictions:\n",
    "        f.write(str(p))\n",
    "        f.write(\"\\n\")\n",
    "    f.close()"
   ]
  },
  {
   "cell_type": "code",
   "execution_count": 4,
   "metadata": {},
   "outputs": [
    {
     "name": "stdout",
     "output_type": "stream",
     "text": [
      "Converting training set to matrix\n",
      "Fitting PCA. Components: 100\n",
      "Reducing training to 100 components\n",
      "Fitting kNN with k=10, kd_tree\n",
      "KNeighborsClassifier(algorithm='kd_tree', leaf_size=30, metric='minkowski',\n",
      "           metric_params=None, n_jobs=1, n_neighbors=10, p=2,\n",
      "           weights='uniform')\n",
      "Reducing test to 100 components\n",
      "Preddicting numbers\n",
      "Writing to file\n",
      "[2 0 9 ..., 3 9 2]\n"
     ]
    }
   ],
   "source": [
    "if __name__ == '__main__':\n",
    "    from load_data import read_data\n",
    "    train, labels = read_data(\"train.csv\")\n",
    "    test, tmpl = read_data(\"test.csv\", test=True)\n",
    "    print (doWork(train, labels, test))\n"
   ]
  },
  {
   "cell_type": "code",
   "execution_count": null,
   "metadata": {
    "collapsed": true
   },
   "outputs": [],
   "source": []
  }
 ],
 "metadata": {
  "kernelspec": {
   "display_name": "Python 3",
   "language": "python",
   "name": "python3"
  },
  "language_info": {
   "codemirror_mode": {
    "name": "ipython",
    "version": 3
   },
   "file_extension": ".py",
   "mimetype": "text/x-python",
   "name": "python",
   "nbconvert_exporter": "python",
   "pygments_lexer": "ipython3",
   "version": "3.6.1"
  }
 },
 "nbformat": 4,
 "nbformat_minor": 2
}
